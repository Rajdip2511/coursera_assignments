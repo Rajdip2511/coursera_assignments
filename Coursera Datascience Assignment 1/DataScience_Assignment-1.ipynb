{
 "cells": [
  {
   "cell_type": "markdown",
   "id": "8e3f2de7-b152-4991-b9c0-03429e3f1b7b",
   "metadata": {},
   "source": [
    "DataScience_Assignment-1"
   ]
  },
  {
   "cell_type": "markdown",
   "id": "1f0aece6-fb52-43fc-8c03-3dfdd971305f",
   "metadata": {},
   "source": [
    "Introduction: This is an assignment notebook that showcases the assignment given the coursera IBM datascience course "
   ]
  },
  {
   "cell_type": "markdown",
   "id": "9f31443d-0514-4551-8621-42b8a226c241",
   "metadata": {},
   "source": [
    "## Data Science Languages\r\n",
    "\r\n",
    "1. **Python**\r\n",
    "   - Python is the most commonly used programming language in data science due to its extensive libraries like NumPy, Pandas, Matplotlib, and scikit-learn.\r\n",
    "\r\n",
    "2. **R**\r\n",
    "   - R is another popular language among data scientists, particularly in academia and research, known for its powerful statistical analysis capabilities and visualization libraries like ggplot2.\r\n",
    "\r\n",
    "3. **SQL**\r\n",
    "   - SQL (Structured Query Language) is essential for data manipulation and querying databases, often used in data preparation and data wrangling tasks.\r\n",
    "\r\n",
    "4. **Julia**\r\n",
    "   - Julia is gaining popularity in the data science community due to its high performance and ease of use for numerical computing and scientific computing tasks.\r\n",
    "\r\n",
    "5. **Scala**\r\n",
    "   - Scala, particularly with Apache Spark, is used for big data processing and distributed computing, making it valuable for handling large datasets in data science applications.\r\n",
    "\r\n",
    "6. **MATLAB**\r\n",
    "   - MATLAB is widely used in engineering and scientific fields for numerical computing and data analysis tasks, though its usage in data science has decreased compared to Python and R.\r\n",
    "\r\n",
    "7. **Java**\r\n",
    "   - Java, with libraries like Weka and MOA, is used in machine learning applications and large-scale data processing systems.\r\n",
    "\r\n",
    "8. **JavaScript**\r\n",
    "   - JavaScript, particularly with libraries like TensorFlow.js and D3.js, is used for web-based data visualization and building interactive data-driven applications.\r\n",
    "\r\n",
    "9. **SAS**\r\n",
    "   - SAS (Statistical Analysis System) is a proprietary software suite commonly used in industries like finance and healthcare for data analysis and statistical modeling.\r\n",
    "\r\n",
    "10. **Shell Scripting (Bash)**\r\n",
    "    - Shell scripting is essential for automating data processing tasks, file manipulation, and running command-line utilities in data science workflows.\r\n"
   ]
  },
  {
   "cell_type": "markdown",
   "id": "d63326a2-1e6e-42f3-87df-23b07d96a128",
   "metadata": {},
   "source": [
    "## Data Science Libraries\r\n",
    "\r\n",
    "1. **NumPy**\r\n",
    "   - NumPy is the fundamental package for scientific computing in Python. It provides support for multidimensional arrays and matrices, along with a collection of mathematical functions to operate on these arrays efficiently.\r\n",
    "\r\n",
    "2. **Pandas**\r\n",
    "   - Pandas is a powerful library for data manipulation and analysis in Python. It offers data structures like DataFrame and Series, along with functions to clean, transform, and analyze tabular data easily.\r\n",
    "\r\n",
    "3. **Matplotlib**\r\n",
    "   - Matplotlib is a comprehensive library for creating static, animated, and interactive visualizations in Python. It provides a MATLAB-like interface and supports various plotting styles and customization options.\r\n",
    "\r\n",
    "4. **Seaborn**\r\n",
    "   - Seaborn is built on top of Matplotlib and provides a high-level interface for creating attractive and informative statistical graphics. It simplifies the process of visualizing complex datasets and statistical relationships.\r\n",
    "\r\n",
    "5. **scikit-learn**\r\n",
    "   - Scikit-learn is a versatile machine learning library in Python, providing simple and efficient tools for data mining and data analysis. It includes various algorithms for classification, regression, clustering, dimensionality reduction, and model evaluation.\r\n",
    "\r\n",
    "6. **TensorFlow**\r\n",
    "   - TensorFlow is an open-source machine learning framework developed by Google. It enables building and training deep learning models efficiently, with support for both traditional neural networks and advanced architectures like convolutional neural networks (CNNs) and recurrent neural networks (RNNs).\r\n",
    "\r\n",
    "7. **PyTorch**\r\n",
    "   - PyTorch is another popular deep learning framework that offers dynamic computational graphs and a more intuitive interface compared to TensorFlow. It's widely used for research and production-level deep learning projects.\r\n",
    "\r\n",
    "8. **Keras**\r\n",
    "   - Keras is a high-level neural networks API, written in Python and capable of running on top of TensorFlow, Theano, or Microsoft Cognitive Toolkit (CNTK). It simplifies the process of building and training deep learning models by providing a user-friendly interface and modular architecture.\r\n",
    "\r\n",
    "9. **Statsmodels**\r\n",
    "   - Statsmodels is a library for statistical modeling and hypothesis testing in Python. It offers a wide range of statistical techniques, including linear regression, generalized linear models, time series analysis, and nonparametric methods.\r\n",
    "\r\n",
    "10. **NLTK (Natural Language Toolkit)**\r\n",
    "    - NLTK is a leading platform for building Python programs to work with human language data. It provides easy-to-use interfaces to over 50 corpora and lexical resources, along with a suite of text processing libraries for tokenization, stemming, tagging, parsing, and classification.\r\n",
    "\r\n",
    "11. **Gensim**\r\n",
    "    - Gensim is a Python library for topic modeling, document indexing, and similarity retrieval with large corpora. It's designed to handle large text collections efficiently and supports algorithms like Latent Semantic Analysis (LSA), Latent Dirichlet Allocation (LDA), and word2vec.\r\n",
    "\r\n",
    "12. **XGBoost**\r\n",
    "    - XGBoost is an optimized distributed gradient boosting library designed for speed and performance. It's widely used in machine learning competitions and production systems for classification and regression tasks.\r\n",
    "\r\n",
    "13. **LightGBM**\r\n",
    "    - LightGBM is a fast, distributed, and high-performance gradient boosting framework developed by Microsoft. It's known for its efficiency and scalability and is commonly used in Kaggle competitions and industry applications.\r\n",
    "\r\n",
    "14. **CatBoost**\r\n",
    "    - CatBoost is a gradient boosting library developed by Yandex that's optimized for categorical features. It handles categorical variables automatically and provides excellent performance without extensive data preprocessing.\r\n",
    "\r\n",
    "15. **Dask**\r\n",
    "    - Dask is a flexible library for parallel computing in Python. It enables scalable data processing and machine learning workflows by providing parallelized versions of NumPy arrays, Pandas DataFrames, and scikit-learn estimators.\r\n"
   ]
  },
  {
   "cell_type": "code",
   "execution_count": null,
   "id": "37343a2e-0cd9-4328-9782-4f9e0f3dae99",
   "metadata": {},
   "outputs": [],
   "source": [
    "## Data Science Tools\n",
    "\n",
    "| Tool           | Description                                                                                     |\n",
    "|----------------|-------------------------------------------------------------------------------------------------|\n",
    "| **Python**     | A versatile programming language with extensive libraries for data manipulation and analysis.  |\n",
    "| **R**          | A statistical programming language with powerful packages for data analysis and visualization.  |\n",
    "| **Jupyter**    | An open-source web application that allows you to create and share documents containing live code, equations, visualizations, and narrative text. |\n",
    "| **SQL**        | A domain-specific language used for managing and manipulating relational databases.             |\n",
    "| **Excel**      | A spreadsheet software widely used for data analysis, visualization, and reporting.            |\n",
    "| **Tableau**    | A data visualization tool that allows users to create interactive and shareable dashboards.     |\n",
    "| **Power BI**   | A business analytics tool by Microsoft for generating insights from data through dashboards and interactive reports. |\n",
    "| **Apache Spark** | An open-source distributed computing system used for big data processing and analytics.       |\n",
    "| **Hadoop**     | An open-source framework for distributed storage and processing of large datasets.              |\n",
    "| **Docker**     | A platform for developing, shipping, and running applications in containers.                    |\n",
    "| **Git**        | A version control system used for tracking changes in source code during software development.  |\n",
    "| **GitHub**     | A web-based platform for hosting and collaborating on Git repositories.                         |\n",
    "| **Anaconda**   | A distribution of Python that comes with pre-installed data science libraries and tools.        |\n",
    "| **Databricks** | A unified analytics platform that simplifies big data and machine learning tasks with Apache Spark. |\n",
    "| **TensorBoard** | A visualization toolkit for TensorFlow to monitor and debug machine learning models.           |\n",
    "| **PyCharm**    | A popular integrated development environment (IDE) for Python programming.                      |\n",
    "\n"
   ]
  },
  {
   "cell_type": "code",
   "execution_count": null,
   "id": "04328bd1-b5f7-429c-86a4-64a0c8a35d7d",
   "metadata": {},
   "outputs": [],
   "source": [
    "## Arithmetic Expression Examples\r\n",
    "\r\n",
    "Arithmetic expressions are mathematical expressions that involve arithmetic operations such as addition, subtraction, multiplication, and division. These expressions are fundamental in mathematics and are often used in various computational tasks. Below are some examples of arithmetic expressions:\r\n",
    "\r\n",
    "1. **Addition**: Adding two or more numbers together.\r\n",
    "   - Example: \\( 3 + 5 = 8 \\)\r\n",
    "\r\n",
    "2. **Subtraction**: Finding the difference between two numbers.\r\n",
    "   - Example: \\( 10 - 4 = 6 \\)\r\n",
    "\r\n",
    "3. **Multiplication**: Multiplying two or more numbers together.\r\n",
    "   - Example: \\( 2 \\times 6 = 12 \\)\r\n",
    "\r\n",
    "4. **Division**: Dividing one number by another.\r\n",
    "   - Example: \\( 20 \\div 4 = 5 \\)\r\n",
    "\r\n",
    "5. **Combination**: Using multiple arithmetic operations in a single expression.\r\n",
    "   - Example: \\( (4 + 3) \\times 2 = 14 \\)\r\n",
    "\r\n",
    "6. **Exponents**: Raising a number to a power.\r\n",
    "   - Example: \\( 2^3 = 8 \\)\r\n",
    "\r\n",
    "7. **Parentheses**: Changing the order of operations using parentheses.\r\n",
    "   - Example: \\( (6 + 2) \\times 3 = 24 \\)\r\n",
    "\r\n",
    "These examples demonstrate the basic building blocks of arithmetic expressions. In computational tasks, arithmetic expressions are often used to perform calculations, manipulate data, and solve mathematical problems.\r\n"
   ]
  },
  {
   "cell_type": "code",
   "execution_count": 1,
   "id": "40b4e14e-1aca-4477-a3c6-54a5de8149a8",
   "metadata": {},
   "outputs": [
    {
     "name": "stdin",
     "output_type": "stream",
     "text": [
      "Enter the first number:  69\n",
      "Enter the second number:  56\n",
      "Enter the third number:  88\n"
     ]
    },
    {
     "name": "stdout",
     "output_type": "stream",
     "text": [
      "Result of multiplication: 340032.0\n",
      "Result of addition: 213.0\n"
     ]
    }
   ],
   "source": [
    "# Take input from the user\n",
    "a = float(input(\"Enter the first number: \"))\n",
    "b = float(input(\"Enter the second number: \"))\n",
    "c = float(input(\"Enter the third number: \"))\n",
    "\n",
    "# Multiply the numbers\n",
    "result_multiply = a * b * c\n",
    "print(\"Result of multiplication:\", result_multiply)\n",
    "\n",
    "# Add the numbers\n",
    "result_addition = a + b + c\n",
    "print(\"Result of addition:\", result_addition)\n"
   ]
  },
  {
   "cell_type": "markdown",
   "id": "94bb2953-a0c8-43df-a6a7-3ab77df764e2",
   "metadata": {},
   "source": [
    "# Take input from the user\n",
    "minutes = float(input(\"Enter the number of minutes: \"))\n",
    "\n",
    "# Convert minutes to hours\n",
    "hours = minutes / 60\n",
    "\n",
    "# Display the result\n",
    "print(minutes, \"minutes is equal to\", hours, \"hours\")\n"
   ]
  },
  {
   "cell_type": "markdown",
   "id": "5c95147f-5f1a-4261-aac2-3c53c4d9d0c3",
   "metadata": {},
   "source": [
    "## Objectives\n",
    "\n",
    "1. **Understand Data Types**: Gain an understanding of different data types such as integers, floats, strings, and how to work with them in Python.\n",
    "\n",
    "2. **Learn Basic Arithmetic Operations**: Learn how to perform basic arithmetic operations like addition, subtraction, multiplication, and division in Python.\n",
    "\n",
    "3. **Input/Output Handling**: Understand how to take input from the user and display output using Python's input/output functions.\n",
    "\n",
    "4. **Conversion Between Units**: Learn how to convert between different units, such as converting minutes to hours or vice versa.\n",
    "\n",
    "5. **Practice User Interaction**: Practice taking input from the user and providing meaningful output, enhancing the interactive nature of Python programs.\n",
    "\n",
    "6. **Enhance Problem-Solving Skills**: Develop problem-solving skills by tackling exercises involving mathematical operations and unit conversions.\n",
    "\n",
    "7. **Familiarize with Python Syntax**: Get familiar with basic Python syntax, including variable assignment, arithmetic operators, and print statements.\n",
    "\n",
    "8. **Explore Error Handling**: Learn how to handle potential errors that may arise during user input or computation, ensuring robustness of the code.\n"
   ]
  },
  {
   "cell_type": "code",
   "execution_count": null,
   "id": "8abb19be-4fbc-47b8-ba2d-5e6a9841ad13",
   "metadata": {},
   "outputs": [],
   "source": [
    "AuthorName:**Rajdip Mandal**"
   ]
  }
 ],
 "metadata": {
  "kernelspec": {
   "display_name": "Python 3 (ipykernel)",
   "language": "python",
   "name": "python3"
  },
  "language_info": {
   "codemirror_mode": {
    "name": "ipython",
    "version": 3
   },
   "file_extension": ".py",
   "mimetype": "text/x-python",
   "name": "python",
   "nbconvert_exporter": "python",
   "pygments_lexer": "ipython3",
   "version": "3.11.7"
  }
 },
 "nbformat": 4,
 "nbformat_minor": 5
}
